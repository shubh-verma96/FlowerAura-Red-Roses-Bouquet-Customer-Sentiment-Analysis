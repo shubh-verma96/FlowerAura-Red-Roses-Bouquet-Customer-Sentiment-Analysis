{
 "cells": [
  {
   "cell_type": "markdown",
   "id": "e8145950-71cb-4362-8285-d5fc3785dc99",
   "metadata": {},
   "source": [
    "<h1 style=\"color:white; background-color:black; text-align:center; padding:10px; border-radius:10px;\">\n",
    "<b>Milestone 4 Project : Customer Sentiment Analysis</b>\n",
    "</h1>\n",
    "\n",
    "<h2 style=\"color:orange\">Table of Content</h2>\n",
    "\n",
    "1. [Objective](#objective)\n",
    "2. [Libraries and Tools](#Libraries-and-Tools)\n",
    "3. [Data Collection](#Data-Collection)\n",
    "4. [Data Cleaning and Preprocessing](#Data-Cleaning-and-Preprocessing)\n",
    "5. [Sentiment Analysis](#Sentiment-Analysis)\n",
    "6. [Data Visualization & Insights](#Data-Visualization-&-Insights)\n",
    "7. [Reporting](#Reporting)\n",
    "\n",
    "<h2 id=\"objective\" style=\"color:orange\">Objective</h2>\n",
    "\n",
    "As a Data Analyst at **[Flower Aura](https://www.floweraura.com/)**, you have been tasked with gauging customer sentiment towards flowers and gifts. The primary goal of this project is to analyze public perception and evaluate customer reactions by performing sentiment analysis on user-posted reviews. By extracting and processing these customer reviews, you will derive insights into the overall sentiment (positive or negative) surrounding the products. These insights will help inform decision-making, enhance customer experience, and identify key areas for product improvement.\n",
    "\n",
    "\n",
    "<h2 style=\"color:orange\">Libraries and Tools</h2>\n",
    "\n",
    "<b>Selenium:</b> For automating the web scraping process.\n",
    "\n",
    "<b>BeautifulSoup:</b> For parsing HTML and extracting review details.\n",
    "\n",
    "<b>Pandas:</b> For data cleaning, processing, and analysis.\n",
    "\n",
    "<b>TextBlob:</b> For performing sentiment analysis on the review text.\n",
    "\n",
    "<b>Matplotlib/Seaborn:</b> For visualizations like sentiment distribution and word clouds."
   ]
  },
  {
   "cell_type": "markdown",
   "id": "6f043374-3ed4-450c-aaa2-1034dee82bb7",
   "metadata": {},
   "source": [
    "<h2 style=\"color:orange\">Data Collection</h2>\n",
    "   \n",
    "**Tool:** BeautifulSoup\n",
    "   \n",
    "**Task:** *Scrape customer reviews from FlowerAura’s product pages for any flowers or gifts item.*"
   ]
  },
  {
   "cell_type": "markdown",
   "id": "666596f0-be5f-4139-89dd-6ebd3e19188b",
   "metadata": {},
   "source": [
    "### Import <span style=\"background-color:yellow;\">all the library</span>  that is needed."
   ]
  },
  {
   "cell_type": "code",
   "execution_count": 132,
   "id": "ba10f202-60b0-4910-9d1e-dc3fd7148c68",
   "metadata": {},
   "outputs": [],
   "source": [
    "from bs4 import BeautifulSoup\n",
    "import requests\n",
    "import pandas as pd\n",
    "import numpy as np\n",
    "import matplotlib.pyplot as plt\n",
    "import seaborn as sns\n",
    "from textblob import TextBlob\n",
    "from wordcloud import WordCloud, STOPWORDS"
   ]
  },
  {
   "cell_type": "code",
   "execution_count": 133,
   "id": "73282fea-e2d3-41c3-8f62-0c1447607d86",
   "metadata": {},
   "outputs": [],
   "source": [
    "#Empty Lists that will be used to store the scraped data.\n",
    "\n",
    "Names = []\n",
    "Ratings = []\n",
    "Reviews = []\n",
    "Cities = []\n",
    "PostedOn = []\n",
    "Occassions = []"
   ]
  },
  {
   "cell_type": "markdown",
   "id": "7e430ab0-77c7-4005-acb8-97de2cd5de97",
   "metadata": {},
   "source": [
    "## Scraping <span style=\"background-color:yellow;\">Customer Reviews </span> from Floweraura Using Requests and BeautifulSoup"
   ]
  },
  {
   "cell_type": "code",
   "execution_count": null,
   "id": "046cdb8a-418f-4464-a37e-d60113907e5b",
   "metadata": {},
   "outputs": [],
   "source": [
    "url = \"https://www.floweraura.com/reviews/p/6617/10-red-roses-bouquet?page=\"\n",
    "\n",
    "\n",
    "for i in range(1,51):\n",
    "    cnp = url+str(i)\n",
    "    url_new = cnp\n",
    "    r = requests.get(url_new)\n",
    "\n",
    "    soup = BeautifulSoup (r.text, \"html.parser\")\n",
    "    \n",
    "    main = soup.find(\"div\", {\"class\":\"review-left-container\"})\n",
    "    \n",
    "    sub = main.find_all (\"div\", {\"class\":\"new-review-card-container\"})\n",
    "    \n",
    "    for i in sub:\n",
    "\n",
    "        #scrape Name of the Reviewer\n",
    "        name= i.find(\"span\", {\"class\":\"review-author-name\"})\n",
    "        Names.append(name.text.title())\n",
    "    \n",
    "        #scraped City of the Reviewer\n",
    "        city = i.find_all (\"span\", {\"class\":\"review-meta-details\"})\n",
    "        Cities.append(city[0].text.title())\n",
    "        \n",
    "        try:\n",
    "            Occassions.append(city[1].text.title())\n",
    "        except: \n",
    "            Occassions.append(np.nan)\n",
    "    \n",
    "        #scraped Date of the Reviewing\n",
    "        date = i.find_all(\"span\")\n",
    "        try:\n",
    "            PostedOn.append(date[4]. text)\n",
    "        except:\n",
    "            PostedOn.append(nan)\n",
    "\n",
    "        #scraped Ratings of the Reviewing\n",
    "        rating = i.find(\"span\", {\"class\":\"star-count-container\"})\n",
    "        Ratings.append(rating.text)\n",
    "    \n",
    "         #scraped Reviews Written by the Reviewer\n",
    "        review = i.find_all(\"div\")\n",
    "        Reviews.append(review[-1].text)"
   ]
  },
  {
   "cell_type": "markdown",
   "id": "fe3e8669-20bc-4b04-aac1-7deb22f9b0e7",
   "metadata": {},
   "source": [
    "## <span style=\"background-color:yellow;\">Creating a DataFrame  </span> of Scraped Floweraura Reviews"
   ]
  },
  {
   "cell_type": "code",
   "execution_count": null,
   "id": "02a05461-7836-4c44-bef6-e1ebdcb4f581",
   "metadata": {},
   "outputs": [],
   "source": [
    "df = pd.DataFrame({'Names':Names , 'Cities':Cities , 'Posted_On':PostedOn , 'Occasions':Occassions , 'Rating': Ratings , 'Reviews': Reviews })\n",
    "df"
   ]
  },
  {
   "cell_type": "markdown",
   "id": "9eb47ae1-2091-4418-a931-9c25790fa582",
   "metadata": {},
   "source": [
    "<h2  style=\"color:orange\">Data Cleaning and Preprocessing</h2>\n",
    "   \n",
    "**Tool:** Pandas\n",
    "   \n",
    "**Task:** *Clean and preprocess the scraped data for analysis.*"
   ]
  },
  {
   "cell_type": "markdown",
   "id": "5670d26c-a60a-4558-8d35-367b4ee79f64",
   "metadata": {},
   "source": [
    "### 1. Extracting and Cleaning from <span style=\"background-color:yellow;\">Posted_On</span> and <span style=\"background-color:yellow;\">Occassions</span> Columns"
   ]
  },
  {
   "cell_type": "code",
   "execution_count": null,
   "id": "3f63c1a3-8d8d-44b9-8279-cc005b15204c",
   "metadata": {},
   "outputs": [],
   "source": [
    "def extract(value):\n",
    "    try:\n",
    "        x=value.index(':')\n",
    "        return value[x+2:]\n",
    "    except:\n",
    "        return np.nan\n",
    "\n",
    "df['Posted_On'] = df['Posted_On'].apply(extract)\n",
    "df['Occasions'] = df['Occasions'].apply(extract)"
   ]
  },
  {
   "cell_type": "markdown",
   "id": "1e2b268a-ed4b-46ca-996e-35f0254d609c",
   "metadata": {},
   "source": [
    "### 2. Removing <span style=\"background-color:yellow;\">(th, rd,st,nd)</span> from <span style=\"background-color:yellow;\">Posted_On</span> Columns"
   ]
  },
  {
   "cell_type": "code",
   "execution_count": null,
   "id": "a0e97591-0493-47d0-9ba3-7607f8204c1d",
   "metadata": {},
   "outputs": [],
   "source": [
    "rep = ['th', 'rd', 'st', 'nd']\n",
    "for i in rep:\n",
    "    df['Posted_On'] = df['Posted_On'].str.replace(i, \"\")"
   ]
  },
  {
   "cell_type": "code",
   "execution_count": null,
   "id": "775d9b21-01c7-4b52-a340-50b8364be1d0",
   "metadata": {},
   "outputs": [],
   "source": [
    "df"
   ]
  },
  {
   "cell_type": "markdown",
   "id": "45f57d55-1cf6-43bf-bde3-240ed8b67103",
   "metadata": {},
   "source": [
    "### 3. Checking the <span style=\"background-color:yellow;\">datatype</span> of each."
   ]
  },
  {
   "cell_type": "code",
   "execution_count": null,
   "id": "c4b41178-35d1-4fb4-b54c-5954009500ee",
   "metadata": {},
   "outputs": [],
   "source": [
    "df.info()"
   ]
  },
  {
   "cell_type": "markdown",
   "id": "3ae94286-c156-4192-bdd4-b6c7c8d69b60",
   "metadata": {},
   "source": [
    "### 4. Changing <span style=\"background-color:yellow;\">Posted_On</span> to Datetime & <span style=\"background-color:yellow;\">\"Rating Datatype\"</span> to int."
   ]
  },
  {
   "cell_type": "code",
   "execution_count": null,
   "id": "e23ff352-a642-4fee-9427-610169afbfbe",
   "metadata": {},
   "outputs": [],
   "source": [
    "df['Posted_On'] = pd.to_datetime(df['Posted_On'])\n",
    "df['Rating'] = df['Posted_On'].astype(\"int\")"
   ]
  },
  {
   "cell_type": "code",
   "execution_count": null,
   "id": "23d127c7-c497-48b3-8a1a-255e97f7d123",
   "metadata": {},
   "outputs": [],
   "source": [
    "df.info()"
   ]
  },
  {
   "cell_type": "markdown",
   "id": "eb64735f-0331-44fd-a162-0f604088abbe",
   "metadata": {},
   "source": [
    "<h2 style=\"color:orange\">Sentiment Analysis</h2>\n",
    "   \n",
    "**Tool:** TextBlob\n",
    "   \n",
    "**Task:** *Analyze the sentiment of each review to classify them as either positive or negative.*\n",
    "\n",
    "### <span style=\"background-color:yellow;\">Polarity Score</span>"
   ]
  },
  {
   "cell_type": "code",
   "execution_count": null,
   "id": "68544367-6a88-4cfb-9fff-b37602f2146b",
   "metadata": {},
   "outputs": [],
   "source": [
    "df['Polarity'] = [TextBlob(i).sentiment.polarity for i in df['Reviews']]\n",
    "df['Polarity'] = df['Polarity'].round(2)\n",
    "df"
   ]
  },
  {
   "cell_type": "markdown",
   "id": "bc096a2f-bfe4-4040-96ee-4411bbd0fb0e",
   "metadata": {},
   "source": [
    "### <span style=\"background-color:yellow;\">Subjectivity Score</span>"
   ]
  },
  {
   "cell_type": "code",
   "execution_count": null,
   "id": "86b770d5-6aa3-463e-a20f-06caf30251e8",
   "metadata": {},
   "outputs": [],
   "source": [
    "df['Subjectivity'] = [TextBlob(i).sentiment.subjectivity for i in df['Reviews']]\n",
    "df['Subjectivity'] = df['Subjectivity'].round(2)\n",
    "df"
   ]
  },
  {
   "cell_type": "markdown",
   "id": "99e222a3-9c3c-417f-b45e-95f71e6b5f19",
   "metadata": {},
   "source": [
    "<h2 style=\"color:orange\">Data Visualization & Insights</h2>\n",
    "   \n",
    "**Tool:** Pandas and Matplotlib/Seaborn for visualization\n",
    "   \n",
    "**Task:** *Perform an analysis on the sentiment of reviews and extract actionable insights.*"
   ]
  },
  {
   "cell_type": "code",
   "execution_count": null,
   "id": "cf09bb7e-0479-447f-add1-f1edd5261fd2",
   "metadata": {},
   "outputs": [],
   "source": [
    "def score (value):\n",
    "    if value <= -0.3:\n",
    "        return \"Negative\"\n",
    "    else:\n",
    "        return \"Positive\"\n",
    "\n",
    "df['Score'] = df [\"Polarity\"].apply(score)\n",
    "df"
   ]
  },
  {
   "cell_type": "markdown",
   "id": "7af02cfc-06a9-40cd-b2d3-c9ecfabfb475",
   "metadata": {},
   "source": [
    "## Plots figure for <span style=\"background-color:yellow;\">Sentiment Distribution</span> based on Sentiment Category"
   ]
  },
  {
   "cell_type": "code",
   "execution_count": null,
   "id": "49c7222a-274a-4243-b5f3-8f0100b31fcb",
   "metadata": {},
   "outputs": [],
   "source": [
    "ax = sns.countplot(x=df['Score'], data = df, color='orange')\n",
    "\n",
    "ax.bar_label(container = ax.containers[0])\n",
    "plt.title('Sentiment Distribution')\n",
    "plt.xlabel('Sentiment Category')\n",
    "plt.ylabel('Frequency')\n",
    "plt.show()"
   ]
  },
  {
   "cell_type": "markdown",
   "id": "2ec370c7-0cfb-452a-99eb-2f85eae1a096",
   "metadata": {},
   "source": [
    "## Visualizing <span style=\"background-color:yellow;\">Positive Customer</span> Reviews Using WordCloud "
   ]
  },
  {
   "cell_type": "code",
   "execution_count": null,
   "id": "c55cf9b5-e354-40b1-9074-195832c66646",
   "metadata": {},
   "outputs": [],
   "source": [
    "df_pos = df.loc[df[\"Score\"] == \"Positive\"]\n",
    "all_text = \" \".join(text for text in df_pos[\"Reviews\"])\n",
    "\n",
    "wordcloud = WordCloud(width=800, height=400, background_color='white', colormap=\"Greens\").generate(all_text)\n",
    "\n",
    "plt.figure(figsize=(10, 5))\n",
    "plt.title('Positive Reviews')\n",
    "plt.imshow(wordcloud, interpolation='bilinear')\n",
    "plt.axis('off')\n",
    "plt.show()"
   ]
  },
  {
   "cell_type": "markdown",
   "id": "1fc038c6-6d04-4481-887f-4991f4c76264",
   "metadata": {},
   "source": [
    "## Visualizing <span style=\"background-color:yellow;\">Negative Customer</span> Reviews Using WordCloud"
   ]
  },
  {
   "cell_type": "code",
   "execution_count": null,
   "id": "6855932c-9559-486e-8bb0-c52d12f9b8ba",
   "metadata": {},
   "outputs": [],
   "source": [
    "df_neg = df.loc[df[\"Score\"] == \"Negative\"]\n",
    "all_text = \" \".join(text for text in df_neg[\"Reviews\"])\n",
    "\n",
    "wordcloud = WordCloud(width=800, height=400, background_color='white', colormap=\"Reds\").generate(all_text)\n",
    "\n",
    "plt.figure(figsize=(10, 5))\n",
    "plt.imshow(wordcloud, interpolation='bilinear')\n",
    "plt.axis('off')\n",
    "plt.show()"
   ]
  },
  {
   "cell_type": "markdown",
   "id": "5d8af9ad-5281-40f5-8efe-5f06ffc85622",
   "metadata": {},
   "source": [
    "## <span style=\"background-color:yellow;\">Average Rating </span> vs <span style=\"background-color:yellow;\">Sentiment Polarity</span>"
   ]
  },
  {
   "cell_type": "code",
   "execution_count": null,
   "id": "5942d583-3c93-427e-a1bc-b4dd06821dc0",
   "metadata": {},
   "outputs": [],
   "source": [
    "# Group properly by rating\n",
    "rating_sentiment = df.groupby('Rating')['Polarity'].mean().reset_index()\n",
    "rating_sentiment['Polarity'] = rating_sentiment['Polarity'].round(2)\n",
    "\n",
    "plt.figure(figsize=(12,6))\n",
    "sns.boxplot(data=rating_sentiment, x='Polarity', y='Rating', hue = 'Polarity' ,palette='coolwarm')\n",
    "plt.title('Rating vs Average Polarity')\n",
    "plt.xlabel('Average Polarity')\n",
    "plt.xticks(rotation=90)\n",
    "plt.ylabel(' Rating (1-5 stars) ')\n",
    "plt.show()"
   ]
  },
  {
   "cell_type": "markdown",
   "id": "924a63bc-85a3-4387-a7f8-b5cf899717d5",
   "metadata": {},
   "source": [
    "## <span style=\"background-color:yellow;\">Review Length</span> vs <span style=\"background-color:yellow;\">Sentiment Polarity</span>"
   ]
  },
  {
   "cell_type": "code",
   "execution_count": null,
   "id": "eba0ac85-8531-48f9-a7c7-1b6d4b4bb930",
   "metadata": {},
   "outputs": [],
   "source": [
    "df['review_length'] = df['Reviews'].apply(lambda x: len(str(x).split()))\n",
    "\n",
    "plt.figure(figsize=(12,5))\n",
    "sns.boxplot(data=df, x='review_length', y='Polarity', hue = 'Score', palette='Set2')\n",
    "plt.title('Review Length vs Sentiment Polarity')\n",
    "plt.xlabel('Review Length (Word Count)')\n",
    "plt.ylabel('Sentiment Polarity')\n",
    "plt.show()"
   ]
  },
  {
   "cell_type": "markdown",
   "id": "4613cb05-845f-46b3-9669-0f551c4b0e17",
   "metadata": {},
   "source": [
    "## Correlation between <span style=\"background-color:yellow;\"> Review Length</span> and <span style=\"background-color:yellow;\">Sentiment Polarity</span>"
   ]
  },
  {
   "cell_type": "code",
   "execution_count": null,
   "id": "f76be858-801d-4768-8c51-2c4cd920bf1f",
   "metadata": {},
   "outputs": [],
   "source": [
    "length_correlation = df['review_length'].corr(df['Polarity'])\n",
    "print(f\"Correlation between Review Length and Sentiment Polarity: {length_correlation:.2f}\")"
   ]
  },
  {
   "cell_type": "markdown",
   "id": "de3cc874-207f-48df-85e7-f01c6b848552",
   "metadata": {},
   "source": [
    "<b>The Correlation value is -0.14 -</b> The minus sign means when review length increases, the positivity slightly decreases.\n",
    "\n",
    "<b>But the number is small (0.14) - </b> That means the connection is very weak.\n",
    "\n",
    "<b>So overall - </b> Longer reviews are a little less positive, but not by much — review length doesn’t really affect sentiment much."
   ]
  },
  {
   "cell_type": "markdown",
   "id": "8627a31a-0047-4827-bd2e-ffa1b13388c5",
   "metadata": {},
   "source": [
    "<h2 style=\"color:orange\">Reporting</h2>"
   ]
  },
  {
   "cell_type": "markdown",
   "id": "98f1b8bd-8d96-451e-9803-5c4dd7b8ca6f",
   "metadata": {},
   "source": [
    "## <span style=\"background-color:yellow;\">Overview: </span>"
   ]
  },
  {
   "cell_type": "markdown",
   "id": "90161139-f7b3-4352-a208-b5e3eb95cd41",
   "metadata": {},
   "source": [
    "<p>Reviews were scraped from FlowerAura. Data was cleaned, and analyzed using TextBlob to classify sentiments as extremely positive, positive, neutral, negative, or extremely negative. </p>\n",
    "\n",
    "## <span style=\"background-color:yellow;\">Results:</span>\n",
    "<p> Most reviews were positive, showing high customer satisfaction. Negative or neutral reviews were mainly about delivery delays or packaging problems. </p>\n",
    "\n",
    "\n",
    "## <span style=\"background-color:yellow;\">Insights:</span>\n",
    "\n",
    "<b>Positive Highlights:</b> \n",
    "\n",
    "1. Fast and timely delivery\n",
    "2. Fresh and beautiful flowers\n",
    "3. Good service and bouquet designs\n",
    "4. Common words: \"Good,\" \"Thank,\" \"fresh,\" \"beautiful,\" \"service\"\n",
    "\n",
    "<b>Common Issues:</b> \n",
    "\n",
    "1. Late deliveries\n",
    "2. Weather-related delays\n",
    "3. Poor flower quality in some cases\n",
    "4. <b>Common words:</b> \"bad,\" \"weather,\" \"despite,\" \"delivering\"\n",
    "\n",
    "\n",
    "## <span style=\"background-color:yellow;\">Recommendations:</span>\n",
    "\n",
    "1. Ensure on-time delivery.\n",
    "2. Prepare for weather-related delays.\n",
    "3. Improve flower quality checks.\n",
    "4. Communicate delays clearly.\n",
    "5. Strengthen customer support.\n",
    "6. Monitor and fix common issues.\n",
    "7. Offer rewards for loyal customers."
   ]
  }
 ],
 "metadata": {
  "kernelspec": {
   "display_name": "Python 3 (ipykernel)",
   "language": "python",
   "name": "python3"
  },
  "language_info": {
   "codemirror_mode": {
    "name": "ipython",
    "version": 3
   },
   "file_extension": ".py",
   "mimetype": "text/x-python",
   "name": "python",
   "nbconvert_exporter": "python",
   "pygments_lexer": "ipython3",
   "version": "3.13.7"
  }
 },
 "nbformat": 4,
 "nbformat_minor": 5
}
